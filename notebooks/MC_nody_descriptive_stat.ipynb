{
 "cells": [
  {
   "cell_type": "code",
   "execution_count": 1,
   "metadata": {},
   "outputs": [],
   "source": [
    "from __future__ import print_function\n",
    "import os\n",
    "import matplotlib.pyplot as plt\n",
    "import re\n",
    "%matplotlib inline"
   ]
  },
  {
   "cell_type": "code",
   "execution_count": 2,
   "metadata": {},
   "outputs": [
    {
     "data": {
      "text/plain": [
       "'/home/zes5027/GIT/psu_project_2018/notebooks'"
      ]
     },
     "execution_count": 2,
     "metadata": {},
     "output_type": "execute_result"
    }
   ],
   "source": [
    "os.getcwd()"
   ]
  },
  {
   "cell_type": "code",
   "execution_count": 3,
   "metadata": {},
   "outputs": [],
   "source": [
    "def get_data(descriptive_dy):\n",
    "    with open(descriptive_dy) as f:\n",
    "        return f.readlines()\n",
    "\n",
    "def data_list(line):\n",
    "    return re.findall(r\"[\\w.]+\", line)\n",
    "    \n",
    "def list_dy(list):\n",
    "    return float(list[0])\n",
    "\n",
    "def list_val(list):\n",
    "    return list[list.index(\"val\") +1 :list.index(\"sec\")]\n",
    "\n",
    "def list_sec(list):\n",
    "    return list[list.index(\"sec\") + 1:]"
   ]
  },
  {
   "cell_type": "code",
   "execution_count": 4,
   "metadata": {},
   "outputs": [],
   "source": [
    "descriptive_dy = \"sidis_hermes_torino_alexei_nody/descriptive_nody_lambdaQ2.txt\""
   ]
  },
  {
   "cell_type": "code",
   "execution_count": 5,
   "metadata": {},
   "outputs": [
    {
     "data": {
      "text/plain": [
       "([0.1, 0.25, 1.0],\n",
       " [['0.2884353640950406', '0.026622011743030673'],\n",
       "  ['0.347828662171464', '0.02068749757622772'],\n",
       "  ['0.3704266927610642', '0.013319728194277174']],\n",
       " [['0.544321830921188', '0.10266092457617475'],\n",
       "  ['0.48881118059353634', '0.06912311298974637'],\n",
       "  ['0.5460174485071294', '0.04430285918046086']])"
      ]
     },
     "execution_count": 5,
     "metadata": {},
     "output_type": "execute_result"
    }
   ],
   "source": [
    "lamb = map(list_dy, map(data_list, get_data(descriptive_dy)))\n",
    "val = map(list_val, map(data_list, get_data(descriptive_dy)))\n",
    "sec = map(list_sec, map(data_list, get_data(descriptive_dy)))\n",
    "lamb, val, sec"
   ]
  },
  {
   "cell_type": "code",
   "execution_count": 14,
   "metadata": {},
   "outputs": [
    {
     "data": {
      "text/plain": [
       "<matplotlib.legend.Legend at 0x7f5d19110710>"
      ]
     },
     "execution_count": 14,
     "metadata": {},
     "output_type": "execute_result"
    },
    {
     "data": {
      "image/png": "[encoded data removed]",
      "text/plain": [
       "<matplotlib.figure.Figure at 0x7f5d18eb1550>"
      ]
     },
     "metadata": {},
     "output_type": "display_data"
    }
   ],
   "source": [
    "fig = plt.figure()\n",
    "ax = fig.add_axes([0,0,1,1])\n",
    "ax.set_ylabel(r\"$\\langle k_\\perp^2 \\rangle_{} $ (GeV$^2$)\", size=14)\n",
    "ax.set_xlabel(r\"$\\langle (k_\\perp/x)^2 \\rangle_{}$ < $\\lambda$ (Q$^2$)\",labelpad=1)\n",
    "\n",
    "for x, i in zip(lamb, range(len(lamb))):\n",
    "    ax.errorbar(x, float(val[i][0]), yerr=float(val[i][1]), capsize=5, fmt=\"o\",color=\"blue\")\n",
    "    ax.errorbar(x, float(sec[i][0]), yerr=float(sec[i][1]), capsize=5, fmt=\"o\",color=\"red\")\n",
    "ax.legend([\"val\", \"sec\"], loc=\"upper center\", ncol=2, fontsize=\"large\")\n"
   ]
  },
  {
   "cell_type": "code",
   "execution_count": null,
   "metadata": {},
   "outputs": [],
   "source": []
  }
 ],
 "metadata": {
  "kernelspec": {
   "display_name": "Python 2",
   "language": "python",
   "name": "python2"
  },
  "language_info": {
   "codemirror_mode": {
    "name": "ipython",
    "version": 2
   },
   "file_extension": ".py",
   "mimetype": "text/x-python",
   "name": "python",
   "nbconvert_exporter": "python",
   "pygments_lexer": "ipython2",
   "version": "2.7.14"
  }
 },
 "nbformat": 4,
 "nbformat_minor": 2
}
