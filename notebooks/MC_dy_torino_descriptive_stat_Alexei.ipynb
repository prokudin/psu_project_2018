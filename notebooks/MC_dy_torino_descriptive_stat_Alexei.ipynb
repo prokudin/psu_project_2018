{
 "cells": [
  {
   "cell_type": "code",
   "execution_count": 1,
   "metadata": {},
   "outputs": [],
   "source": [
    "from __future__ import print_function\n",
    "import os\n",
    "import matplotlib.pyplot as plt\n",
    "import pylab as py\n",
    "import re\n",
    "%matplotlib inline"
   ]
  },
  {
   "cell_type": "code",
   "execution_count": 2,
   "metadata": {},
   "outputs": [
    {
     "data": {
      "text/plain": [
       "'/home/avp5627/GIT/psu_project_2018/notebooks'"
      ]
     },
     "execution_count": 2,
     "metadata": {},
     "output_type": "execute_result"
    }
   ],
   "source": [
    "os.getcwd()"
   ]
  },
  {
   "cell_type": "code",
   "execution_count": 3,
   "metadata": {},
   "outputs": [],
   "source": [
    "def get_data(descriptive_dy):\n",
    "    with open(descriptive_dy) as f:\n",
    "        return f.readlines()\n",
    "\n",
    "def data_list(line):\n",
    "    return re.findall(r\"[\\w.]+\", line)\n",
    "    \n",
    "def list_dy(list):\n",
    "    return float(list[0])\n",
    "\n",
    "def list_val(list):\n",
    "    return list[list.index(\"val\") +1 :list.index(\"sec\")]\n",
    "\n",
    "def list_sec(list):\n",
    "    return list[list.index(\"sec\") + 1:list.index(\"fav\")]\n",
    "\n",
    "def list_fav(list):\n",
    "    return list[list.index(\"fav\") + 1:list.index(\"unfav\")]\n",
    "\n",
    "def list_unfav(list):\n",
    "    return list[list.index(\"unfav\") + 1:list.index(\"kfav\")]\n",
    "\n",
    "def list_kfav(list):\n",
    "    return list[list.index(\"kfav\") + 1:list.index(\"kunfav\")]\n",
    "\n",
    "def list_kunfav(list):\n",
    "    return list[list.index(\"kunfav\") + 1:]"
   ]
  },
  {
   "cell_type": "code",
   "execution_count": 4,
   "metadata": {},
   "outputs": [],
   "source": [
    "path2results='sidis_hermes_torino_alexei_dy'\n",
    "# out\n",
    "fig_kt_dy = \"kt_dy_torino.pdf\"\n",
    "fig_pt_pion_dy = \"pt_pion_dy_torino.pdf\"\n",
    "fig_pt_kaon_dy = \"pt_kaon_dy_torino.pdf\""
   ]
  },
  {
   "cell_type": "code",
   "execution_count": 5,
   "metadata": {},
   "outputs": [],
   "source": [
    "descriptive_dy = \"sidis_hermes_torino_alexei_dy/descriptive_torino_dy.txt\""
   ]
  },
  {
   "cell_type": "code",
   "execution_count": 6,
   "metadata": {},
   "outputs": [
    {
     "data": {
      "text/plain": [
       "([1.25, 1.5, 1.75, 2.0, 3.5, 3.25, 3.0, 2.75, 2.5, 2.25],\n",
       " [['0.5722678972276115', '0.01432839557659122'],\n",
       "  ['0.5450596680875011', '0.015720112545535857'],\n",
       "  ['0.53504769209872', '0.015294413022805872'],\n",
       "  ['0.5088631168005024', '0.015744611745534733'],\n",
       "  ['0.2703255588825917', '0.06821957266236721'],\n",
       "  ['0.30673971052744303', '0.04030566739865905'],\n",
       "  ['0.334971392751484', '0.028636806059195382'],\n",
       "  ['0.3782368577106828', '0.022520346525729675'],\n",
       "  ['0.43094848961087073', '0.01936826385425699'],\n",
       "  ['0.4565739505967987', '0.01667826764580474']],\n",
       " [['0.6216531048540304', '0.05272453787378537'],\n",
       "  ['0.6148320197433029', '0.054629904719679934'],\n",
       "  ['0.5797436086699163', '0.05336688737112207'],\n",
       "  ['0.5553692050304586', '0.049167028644095605'],\n",
       "  ['0.4342257327021969', '0.21777738691877124'],\n",
       "  ['0.3072083396461029', '0.14464363907728658'],\n",
       "  ['0.28635572862816405', '0.09397647392664095'],\n",
       "  ['0.41287698597602684', '0.06758791543888629'],\n",
       "  ['0.48283107930032954', '0.052678009219915715'],\n",
       "  ['0.5322571592214593', '0.05183092976663052']],\n",
       " [['0.11691002601989209', '0.001730558719266902'],\n",
       "  ['0.12091603323469459', '0.0019646832781855927'],\n",
       "  ['0.12190670710121522', '0.002060645917448155'],\n",
       "  ['0.12651473919209033', '0.0021977415031603047'],\n",
       "  ['0.1893885015747543', '0.015172131163145357'],\n",
       "  ['0.17980312304479673', '0.007443037000867973'],\n",
       "  ['0.16942589040970063', '0.004905754769345483'],\n",
       "  ['0.15749181709615812', '0.0037111198199699176'],\n",
       "  ['0.14794446422402202', '0.00307597818863758'],\n",
       "  ['0.13916771450073176', '0.0027182072936426565']],\n",
       " [['0.13828860847040852', '0.0022321202460216048'],\n",
       "  ['0.1401662711607667', '0.0026449862456161795'],\n",
       "  ['0.1451380760634279', '0.0028293396382339845'],\n",
       "  ['0.1485371568920097', '0.003325575886404726'],\n",
       "  ['0.156118132590384', '0.018188238107902193'],\n",
       "  ['0.15469073937132685', '0.00968882656521566'],\n",
       "  ['0.15271130489675394', '0.005800653434112865'],\n",
       "  ['0.14831645841503993', '0.004824620600010097'],\n",
       "  ['0.15067990272201406', '0.004033076286582719'],\n",
       "  ['0.1518343931437414', '0.003865504304034941']],\n",
       " [['0.13262552352137374', '0.004192064663285918'],\n",
       "  ['0.13379125110198095', '0.0047823519916149184'],\n",
       "  ['0.13020221068480267', '0.005964152650796596'],\n",
       "  ['0.13663265456795579', '0.006981780344568572'],\n",
       "  ['0.5135323193010668', '0.25577678575737023'],\n",
       "  ['0.48563867079961576', '0.2569253964425136'],\n",
       "  ['0.1481271220995306', '0.02462780162341741'],\n",
       "  ['0.1519908296133221', '0.013305071841122501'],\n",
       "  ['0.1415380024167205', '0.009502880041611516'],\n",
       "  ['0.1354798566141787', '0.008067351056141538']],\n",
       " [['0.19120963620147816', '0.011746412056826057'],\n",
       "  ['0.1842293589126432', '0.012643757861774413'],\n",
       "  ['0.1953172094530267', '0.018022392842601532'],\n",
       "  ['0.16794752163947102', '0.017246572989524513'],\n",
       "  ['0.49788123498452674', '0.270160939292323'],\n",
       "  ['0.5088751082600096', '0.26115998651225925'],\n",
       "  ['0.5648732372674545', '0.22213003235913067'],\n",
       "  ['0.12599263816926606', '0.046648222003130596'],\n",
       "  ['0.1150229666572929', '0.02271930218079164'],\n",
       "  ['0.1255878476775695', '0.017731704630975308']])"
      ]
     },
     "execution_count": 6,
     "metadata": {},
     "output_type": "execute_result"
    }
   ],
   "source": [
    "dy = map(list_dy, map(data_list, get_data(descriptive_dy)))\n",
    "val = map(list_val, map(data_list, get_data(descriptive_dy)))\n",
    "sec = map(list_sec, map(data_list, get_data(descriptive_dy)))\n",
    "fav = map(list_fav, map(data_list, get_data(descriptive_dy)))\n",
    "unfav = map(list_unfav, map(data_list, get_data(descriptive_dy)))\n",
    "kfav = map(list_kfav, map(data_list, get_data(descriptive_dy)))\n",
    "kunfav = map(list_kunfav, map(data_list, get_data(descriptive_dy)))\n",
    "\n",
    "\n",
    "\n",
    "dy, val, sec, fav, unfav, kfav, kunfav"
   ]
  },
  {
   "cell_type": "code",
   "execution_count": 7,
   "metadata": {},
   "outputs": [
    {
     "data": {
      "image/png": "[encoded data removed]",
      "text/plain": [
       "<matplotlib.figure.Figure at 0x7f61e518d5d0>"
      ]
     },
     "metadata": {},
     "output_type": "display_data"
    }
   ],
   "source": [
    "fig, ax = plt.subplots()\n",
    "ax.set_ylabel(r\"$\\langle k_\\perp^2 \\rangle_{} $ (GeV$^2$)\", size=14)\n",
    "ax.set_xlabel(\"dy\",labelpad=1)\n",
    "\n",
    "for x, i in zip(dy, range(len(dy))):\n",
    "    ax.errorbar(x, float(val[i][0]), yerr=float(val[i][1]), capsize=5, fmt=\"o\",color=\"blue\")\n",
    "    ax.errorbar(x, float(sec[i][0]), yerr=float(sec[i][1]), capsize=5, fmt=\"o\",color=\"red\")\n",
    "ax.legend([\"valence\", \"sea\"], loc=\"lower center\", ncol=2, fontsize=\"large\")\n",
    "py.savefig(\"%s/%s\" % (path2results, fig_kt_dy))"
   ]
  },
  {
   "cell_type": "code",
   "execution_count": 8,
   "metadata": {},
   "outputs": [
    {
     "data": {
      "image/png": "[encoded data removed]",
      "text/plain": [
       "<matplotlib.figure.Figure at 0x7f61dc7ce190>"
      ]
     },
     "metadata": {},
     "output_type": "display_data"
    }
   ],
   "source": [
    "fig, ax = plt.subplots()\n",
    "ax.set_ylabel(r\"$\\langle p_\\perp^2 \\rangle_{\\pi} $ (GeV$^2$)\", size=14)\n",
    "ax.set_xlabel(\"dy\",labelpad=1)\n",
    "\n",
    "for x, i in zip(dy, range(len(dy))):\n",
    "    ax.errorbar(x, float(fav[i][0]), yerr=float(fav[i][1]), capsize=5, fmt=\"o\",color=\"blue\")\n",
    "    ax.errorbar(x, float(unfav[i][0]), yerr=float(unfav[i][1]), capsize=5, fmt=\"o\",color=\"red\")\n",
    "ax.legend([\"fav\", \"unfav\"], loc=\"lower center\", ncol=2, fontsize=\"large\")\n",
    "py.savefig(\"%s/%s\" % (path2results, fig_pt_pion_dy))\n"
   ]
  },
  {
   "cell_type": "code",
   "execution_count": 9,
   "metadata": {},
   "outputs": [
    {
     "data": {
      "image/png": "[encoded data removed]",
      "text/plain": [
       "<matplotlib.figure.Figure at 0x7f61dc7ccb10>"
      ]
     },
     "metadata": {},
     "output_type": "display_data"
    }
   ],
   "source": [
    "fig, ax = plt.subplots()\n",
    "ax.set_ylabel(r\"$\\langle p_\\perp^2 \\rangle_{K} $ (GeV$^2$)\", size=14)\n",
    "ax.set_xlabel(\"dy\",labelpad=1)\n",
    "\n",
    "for x, i in zip(dy, range(len(dy))):\n",
    "    ax.errorbar(x, float(kfav[i][0]), yerr=float(kfav[i][1]), capsize=5, fmt=\"o\",color=\"blue\")\n",
    "    ax.errorbar(x, float(kunfav[i][0]), yerr=float(kunfav[i][1]), capsize=5, fmt=\"o\",color=\"red\")\n",
    "ax.legend([\"fav\", \"unfav\"], loc=\"lower center\", ncol=2, fontsize=\"large\")\n",
    "py.savefig(\"%s/%s\" % (path2results, fig_pt_kaon_dy))\n"
   ]
  },
  {
   "cell_type": "code",
   "execution_count": null,
   "metadata": {},
   "outputs": [],
   "source": []
  }
 ],
 "metadata": {
  "kernelspec": {
   "display_name": "Python 2",
   "language": "python",
   "name": "python2"
  },
  "language_info": {
   "codemirror_mode": {
    "name": "ipython",
    "version": 2
   },
   "file_extension": ".py",
   "mimetype": "text/x-python",
   "name": "python",
   "nbconvert_exporter": "python",
   "pygments_lexer": "ipython2",
   "version": "2.7.14"
  }
 },
 "nbformat": 4,
 "nbformat_minor": 2
}
