{
 "cells": [
  {
   "cell_type": "code",
   "execution_count": 1,
   "metadata": {},
   "outputs": [],
   "source": [
    "from __future__ import print_function\n",
    "import os\n",
    "import matplotlib.pyplot as plt\n",
    "import pylab as py\n",
    "import re\n",
    "%matplotlib inline"
   ]
  },
  {
   "cell_type": "code",
   "execution_count": 2,
   "metadata": {},
   "outputs": [
    {
     "data": {
      "text/plain": [
       "'/home/avp5627/GIT/psu_project_2018/notebooks'"
      ]
     },
     "execution_count": 2,
     "metadata": {},
     "output_type": "execute_result"
    }
   ],
   "source": [
    "os.getcwd()"
   ]
  },
  {
   "cell_type": "code",
   "execution_count": 3,
   "metadata": {},
   "outputs": [],
   "source": [
    "def get_data(descriptive_dy):\n",
    "    with open(descriptive_dy) as f:\n",
    "        return f.readlines()\n",
    "\n",
    "def data_list(line):\n",
    "    return re.findall(r\"[\\w.]+\", line)\n",
    "    \n",
    "def list_dy(list):\n",
    "    return float(list[0])\n",
    "\n",
    "def list_val(list):\n",
    "    return list[list.index(\"val\") +1 :list.index(\"sec\")]\n",
    "\n",
    "def list_sec(list):\n",
    "    return list[list.index(\"sec\") + 1:list.index(\"fav\")]\n",
    "\n",
    "def list_fav(list):\n",
    "    return list[list.index(\"fav\") + 1:list.index(\"unfav\")]\n",
    "\n",
    "def list_unfav(list):\n",
    "    return list[list.index(\"unfav\") + 1:list.index(\"kfav\")]\n",
    "\n",
    "def list_kfav(list):\n",
    "    return list[list.index(\"kfav\") + 1:list.index(\"kunfav\")]\n",
    "\n",
    "def list_kunfav(list):\n",
    "    return list[list.index(\"kunfav\") + 1:]"
   ]
  },
  {
   "cell_type": "code",
   "execution_count": 4,
   "metadata": {},
   "outputs": [],
   "source": [
    "path2results='sidis_hermes_torino_alexei_dy'\n",
    "# out\n",
    "fig_kt_dy = \"kt_dy.pdf\"\n",
    "fig_pt_pion_dy = \"pt_pion_dy.pdf\"\n",
    "fig_pt_kaon_dy = \"pt_kaon_dy.pdf\""
   ]
  },
  {
   "cell_type": "code",
   "execution_count": 5,
   "metadata": {},
   "outputs": [],
   "source": [
    "descriptive_dy = \"sidis_hermes_torino_alexei_dy/descriptive_qt_dy.txt\""
   ]
  },
  {
   "cell_type": "code",
   "execution_count": 6,
   "metadata": {},
   "outputs": [
    {
     "data": {
      "text/plain": [
       "([2.0, 2.5, 3.5, 3.75, 2.25, 2.75, 3.0, 3.25],\n",
       " [['0.3470922473479644', '0.02088764946378962'],\n",
       "  ['0.3473313327973676', '0.020622069699275204'],\n",
       "  ['0.26544553389289527', '0.03587973466105189'],\n",
       "  ['0.17260067098946036', '0.057657199456796114'],\n",
       "  ['0.34985927200675254', '0.020090937093380723'],\n",
       "  ['0.3333448288678916', '0.02084322842028741'],\n",
       "  ['0.31803775834818426', '0.02345847007049021'],\n",
       "  ['0.3063587224473039', '0.026440882712200867']],\n",
       " [['0.48399754078014456', '0.06628166673516452'],\n",
       "  ['0.523788101095195', '0.0752442357088173'],\n",
       "  ['0.18352243092959872', '0.09652206242192325'],\n",
       "  ['0.1300686203315512', '0.10506826859930823'],\n",
       "  ['0.49728876848826875', '0.06646885968343484'],\n",
       "  ['0.46478485462659946', '0.07822080844031806'],\n",
       "  ['0.40410797382674846', '0.09246721823592821'],\n",
       "  ['0.26924060430914043', '0.09355798155047906']],\n",
       " [['0.19043599424087146', '0.003604197035475135'],\n",
       "  ['0.19012064328626507', '0.0035647188574146438'],\n",
       "  ['0.22164058778676887', '0.0073307814620623525'],\n",
       "  ['0.2513683166359073', '0.012966139020736307'],\n",
       "  ['0.18988321379656126', '0.003607592807419443'],\n",
       "  ['0.1927745963948263', '0.003742700745473376'],\n",
       "  ['0.19675144955477147', '0.0039133183327877364'],\n",
       "  ['0.20379335648092128', '0.00441252712428585']],\n",
       " [['0.18335093802846725', '0.004432657107543822'],\n",
       "  ['0.1823445524264412', '0.00463291056114678'],\n",
       "  ['0.21209938683442334', '0.0070447865030493'],\n",
       "  ['0.24157572532155813', '0.01159877672966523'],\n",
       "  ['0.18276457573325497', '0.004565662189983349'],\n",
       "  ['0.18519488800519981', '0.004502331717968628'],\n",
       "  ['0.1896060989406973', '0.005053559800934697'],\n",
       "  ['0.20229141784060697', '0.005781584637360393']],\n",
       " [['0.21763934569531573', '0.007836639975394891'],\n",
       "  ['0.22238546959998914', '0.009413182957104653'],\n",
       "  ['0.48722823744679866', '0.2748982960249903'],\n",
       "  ['0.4560744289056766', '0.26072358795609396'],\n",
       "  ['0.21675538181947912', '0.008130764467554088'],\n",
       "  ['0.24188853883772304', '0.010817143795708313'],\n",
       "  ['0.2755202834642893', '0.016511628633215484'],\n",
       "  ['0.4685861290663513', '0.2594987164328349']],\n",
       " [['0.1226073275221029', '0.009632541308640389'],\n",
       "  ['0.09942097956180572', '0.011952880827148947'],\n",
       "  ['0.5168050765363583', '0.26042613019918237'],\n",
       "  ['0.5020034932410662', '0.2675573483393985'],\n",
       "  ['0.11386360689795744', '0.009298217755473999'],\n",
       "  ['0.13257147961796487', '0.02245571418503082'],\n",
       "  ['0.26088392885200856', '0.11968176614392852'],\n",
       "  ['0.4505276139541252', '0.25998212428866235']])"
      ]
     },
     "execution_count": 6,
     "metadata": {},
     "output_type": "execute_result"
    }
   ],
   "source": [
    "dy = map(list_dy, map(data_list, get_data(descriptive_dy)))\n",
    "val = map(list_val, map(data_list, get_data(descriptive_dy)))\n",
    "sec = map(list_sec, map(data_list, get_data(descriptive_dy)))\n",
    "fav = map(list_fav, map(data_list, get_data(descriptive_dy)))\n",
    "unfav = map(list_unfav, map(data_list, get_data(descriptive_dy)))\n",
    "kfav = map(list_kfav, map(data_list, get_data(descriptive_dy)))\n",
    "kunfav = map(list_kunfav, map(data_list, get_data(descriptive_dy)))\n",
    "\n",
    "\n",
    "\n",
    "dy, val, sec, fav, unfav, kfav, kunfav"
   ]
  },
  {
   "cell_type": "code",
   "execution_count": 7,
   "metadata": {},
   "outputs": [
    {
     "data": {
      "image/png": "[encoded data removed]",
      "text/plain": [
       "<matplotlib.figure.Figure at 0x7ff642056950>"
      ]
     },
     "metadata": {},
     "output_type": "display_data"
    }
   ],
   "source": [
    "fig, ax = plt.subplots()\n",
    "ax.set_ylabel(r\"$\\langle k_\\perp^2 \\rangle_{} $ (GeV$^2$)\", size=14)\n",
    "ax.set_xlabel(\"dy\",labelpad=1)\n",
    "\n",
    "for x, i in zip(dy, range(len(dy))):\n",
    "    ax.errorbar(x, float(val[i][0]), yerr=float(val[i][1]), capsize=5, fmt=\"o\",color=\"blue\")\n",
    "    ax.errorbar(x, float(sec[i][0]), yerr=float(sec[i][1]), capsize=5, fmt=\"o\",color=\"red\")\n",
    "ax.legend([\"valence\", \"sea\"], loc=\"lower center\", ncol=2, fontsize=\"large\")\n",
    "py.savefig(\"%s/%s\" % (path2results, fig_kt_dy))"
   ]
  },
  {
   "cell_type": "code",
   "execution_count": 8,
   "metadata": {},
   "outputs": [
    {
     "data": {
      "image/png": "[encoded data removed]",
      "text/plain": [
       "<matplotlib.figure.Figure at 0x7ff6411bce10>"
      ]
     },
     "metadata": {},
     "output_type": "display_data"
    }
   ],
   "source": [
    "fig, ax = plt.subplots()\n",
    "ax.set_ylabel(r\"$\\langle p_\\perp^2 \\rangle_{\\pi} $ (GeV$^2$)\", size=14)\n",
    "ax.set_xlabel(\"dy\",labelpad=1)\n",
    "\n",
    "for x, i in zip(dy, range(len(dy))):\n",
    "    ax.errorbar(x, float(fav[i][0]), yerr=float(fav[i][1]), capsize=5, fmt=\"o\",color=\"blue\")\n",
    "    ax.errorbar(x, float(unfav[i][0]), yerr=float(unfav[i][1]), capsize=5, fmt=\"o\",color=\"red\")\n",
    "ax.legend([\"fav\", \"unfav\"], loc=\"upper center\", ncol=2, fontsize=\"large\")\n",
    "py.savefig(\"%s/%s\" % (path2results, fig_pt_pion_dy))"
   ]
  },
  {
   "cell_type": "code",
   "execution_count": 9,
   "metadata": {},
   "outputs": [
    {
     "data": {
      "image/png": "[encoded data removed]",
      "text/plain": [
       "<matplotlib.figure.Figure at 0x7ff640ddccd0>"
      ]
     },
     "metadata": {},
     "output_type": "display_data"
    }
   ],
   "source": [
    "fig, ax = plt.subplots()\n",
    "ax.set_ylabel(r\"$\\langle p_\\perp^2 \\rangle_{K} $ (GeV$^2$)\", size=14)\n",
    "ax.set_xlabel(\"dy\",labelpad=1)\n",
    "\n",
    "for x, i in zip(dy, range(len(dy))):\n",
    "    ax.errorbar(x, float(kfav[i][0]), yerr=float(kfav[i][1]), capsize=5, fmt=\"o\",color=\"blue\")\n",
    "    ax.errorbar(x, float(kunfav[i][0]), yerr=float(kunfav[i][1]), capsize=5, fmt=\"o\",color=\"red\")\n",
    "ax.legend([\"fav\", \"unfav\"], loc=\"upper center\", ncol=2, fontsize=\"large\")\n",
    "py.savefig(\"%s/%s\" % (path2results, fig_pt_kaon_dy))"
   ]
  },
  {
   "cell_type": "code",
   "execution_count": null,
   "metadata": {},
   "outputs": [],
   "source": []
  }
 ],
 "metadata": {
  "kernelspec": {
   "display_name": "Python 2",
   "language": "python",
   "name": "python2"
  },
  "language_info": {
   "codemirror_mode": {
    "name": "ipython",
    "version": 2
   },
   "file_extension": ".py",
   "mimetype": "text/x-python",
   "name": "python",
   "nbconvert_exporter": "python",
   "pygments_lexer": "ipython2",
   "version": "2.7.14"
  }
 },
 "nbformat": 4,
 "nbformat_minor": 2
}
