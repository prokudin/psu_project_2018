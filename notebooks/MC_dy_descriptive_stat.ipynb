{
 "cells": [
  {
   "cell_type": "code",
   "execution_count": 1,
   "metadata": {},
   "outputs": [],
   "source": [
    "from __future__ import print_function\n",
    "import os\n",
    "import matplotlib.pyplot as plt\n",
    "import re\n",
    "%matplotlib inline"
   ]
  },
  {
   "cell_type": "code",
   "execution_count": 2,
   "metadata": {},
   "outputs": [
    {
     "data": {
      "text/plain": [
       "'/home/avp5627/GIT/psu_project_2018/notebooks'"
      ]
     },
     "execution_count": 2,
     "metadata": {},
     "output_type": "execute_result"
    }
   ],
   "source": [
    "os.getcwd()"
   ]
  },
  {
   "cell_type": "code",
   "execution_count": 3,
   "metadata": {},
   "outputs": [],
   "source": [
    "def get_data(descriptive_dy):\n",
    "    with open(descriptive_dy) as f:\n",
    "        return f.readlines()\n",
    "\n",
    "def data_list(line):\n",
    "    return re.findall(r\"[\\w.]+\", line)\n",
    "    \n",
    "def list_dy(list):\n",
    "    return float(list[0])\n",
    "\n",
    "def list_val(list):\n",
    "    return list[list.index(\"val\") +1 :list.index(\"sec\")]\n",
    "\n",
    "def list_sec(list):\n",
    "    return list[list.index(\"sec\") + 1:]"
   ]
  },
  {
   "cell_type": "code",
   "execution_count": 4,
   "metadata": {},
   "outputs": [],
   "source": [
    "descriptive_dy = \"sidis_hermes_torino_alexei_dy/descriptive_dy.txt\""
   ]
  },
  {
   "cell_type": "code",
   "execution_count": 5,
   "metadata": {},
   "outputs": [
    {
     "data": {
      "text/plain": [
       "([2.5,\n",
       "  2.25,\n",
       "  2.75,\n",
       "  3.0,\n",
       "  3.25,\n",
       "  3.5,\n",
       "  3.75,\n",
       "  3.75,\n",
       "  2.0,\n",
       "  3.25,\n",
       "  3.25,\n",
       "  3.25,\n",
       "  3.5,\n",
       "  3.75],\n",
       " [['0.3473313327973676', '0.020622069699275204'],\n",
       "  ['0.34985927200675254', '0.020090937093380723'],\n",
       "  ['0.3333448288678916', '0.02084322842028741'],\n",
       "  ['0.31803775834818426', '0.02345847007049021'],\n",
       "  ['0.3063587224473039', '0.026440882712200867'],\n",
       "  ['0.26544553389289527', '0.03587973466105189'],\n",
       "  ['0.17260067098946036', '0.057657199456796114'],\n",
       "  ['0.17260067098946036', '0.057657199456796114'],\n",
       "  ['0.3470922473479644', '0.02088764946378962'],\n",
       "  ['0.3063587224473039', '0.026440882712200867'],\n",
       "  ['0.3063587224473039', '0.026440882712200867'],\n",
       "  ['0.3063587224473039', '0.026440882712200867'],\n",
       "  ['0.26544553389289527', '0.03587973466105189'],\n",
       "  ['0.17260067098946036', '0.057657199456796114']],\n",
       " [['0.523788101095195', '0.0752442357088173'],\n",
       "  ['0.49728876848826875', '0.06646885968343484'],\n",
       "  ['0.46478485462659946', '0.07822080844031806'],\n",
       "  ['0.40410797382674846', '0.09246721823592821'],\n",
       "  ['0.26924060430914043', '0.09355798155047906'],\n",
       "  ['0.18352243092959872', '0.09652206242192325'],\n",
       "  ['0.1300686203315512', '0.10506826859930823'],\n",
       "  ['0.1300686203315512', '0.10506826859930823'],\n",
       "  ['0.48399754078014456', '0.06628166673516452'],\n",
       "  ['0.26924060430914043', '0.09355798155047906'],\n",
       "  ['0.26924060430914043', '0.09355798155047906'],\n",
       "  ['0.26924060430914043', '0.09355798155047906'],\n",
       "  ['0.18352243092959872', '0.09652206242192325'],\n",
       "  ['0.1300686203315512', '0.10506826859930823']])"
      ]
     },
     "execution_count": 5,
     "metadata": {},
     "output_type": "execute_result"
    }
   ],
   "source": [
    "dy = map(list_dy, map(data_list, get_data(descriptive_dy)))\n",
    "val = map(list_val, map(data_list, get_data(descriptive_dy)))\n",
    "sec = map(list_sec, map(data_list, get_data(descriptive_dy)))\n",
    "dy, val, sec"
   ]
  },
  {
   "cell_type": "code",
   "execution_count": 6,
   "metadata": {},
   "outputs": [
    {
     "data": {
      "text/plain": [
       "<matplotlib.legend.Legend at 0x7f331dfa3610>"
      ]
     },
     "execution_count": 6,
     "metadata": {},
     "output_type": "execute_result"
    },
    {
     "data": {
      "image/png": "[encoded data removed]",
      "text/plain": [
       "<matplotlib.figure.Figure at 0x7f3326602e90>"
      ]
     },
     "metadata": {},
     "output_type": "display_data"
    }
   ],
   "source": [
    "fig = plt.figure()\n",
    "ax = fig.add_axes([0,0,1,1])\n",
    "ax.set_ylabel(r\"$\\langle k_\\perp^2 \\rangle_{} $ (GeV$^2$)\", size=14)\n",
    "ax.set_xlabel(\"dy\",labelpad=1)\n",
    "\n",
    "for x, i in zip(dy, range(len(dy))):\n",
    "    ax.errorbar(x, float(val[i][0]), yerr=float(val[i][1]), capsize=5, fmt=\"o\",color=\"blue\")\n",
    "    ax.errorbar(x, float(sec[i][0]), yerr=float(sec[i][1]), capsize=5, fmt=\"o\",color=\"red\")\n",
    "ax.legend([\"valence\", \"sea\"], loc=\"lower center\", ncol=2, fontsize=\"large\")\n"
   ]
  },
  {
   "cell_type": "code",
   "execution_count": null,
   "metadata": {},
   "outputs": [],
   "source": []
  }
 ],
 "metadata": {
  "kernelspec": {
   "display_name": "Python 2",
   "language": "python",
   "name": "python2"
  },
  "language_info": {
   "codemirror_mode": {
    "name": "ipython",
    "version": 2
   },
   "file_extension": ".py",
   "mimetype": "text/x-python",
   "name": "python",
   "nbconvert_exporter": "python",
   "pygments_lexer": "ipython2",
   "version": "2.7.14"
  }
 },
 "nbformat": 4,
 "nbformat_minor": 2
}
