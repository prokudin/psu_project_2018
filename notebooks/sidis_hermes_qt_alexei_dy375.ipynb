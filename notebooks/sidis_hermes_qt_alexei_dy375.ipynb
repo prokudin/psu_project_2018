{
 "cells": [
  {
   "cell_type": "markdown",
   "metadata": {},
   "source": [
    "# JAM FITTER"
   ]
  },
  {
   "cell_type": "code",
   "execution_count": 1,
   "metadata": {},
   "outputs": [],
   "source": [
    "import fitpack"
   ]
  },
  {
   "cell_type": "code",
   "execution_count": 2,
   "metadata": {},
   "outputs": [],
   "source": [
    "import sys,os\n",
    "from fitlab.resman import RESMAN\n",
    "from fitlab.mcsamp import MCSAMP\n",
    "from tools.config import load_config,conf\n",
    "from tools.tools import load, save,checkdir\n",
    "import pylab as py\n",
    "import numpy as np\n",
    "import pandas as pd\n",
    "import copy\n",
    "def lprint(msg):\n",
    "    sys.stdout.write('\\r')\n",
    "    sys.stdout.write('%s' %msg)\n",
    "    sys.stdout.flush()\n",
    "%matplotlib inline"
   ]
  },
  {
   "cell_type": "markdown",
   "metadata": {},
   "source": [
    "## dy parameters"
   ]
  },
  {
   "cell_type": "code",
   "execution_count": 3,
   "metadata": {},
   "outputs": [],
   "source": [
    "dy = 3.75\n",
    "# Inputs\n",
    "summary_dy = '../samples/summary_dy375.mcp'\n",
    "config_dy = '../inputs/upol_hermes_alexei375.py'\n",
    "# out\n",
    "sid_dy = 'sidis_dy375.dat'\n",
    "dat_thy_dy = 'data_and_thy_dy375.dat'\n",
    "fig_seperation_dy = \"separation_dy375.pdf\"\n",
    "fig_hermes_dy = \"hermes_fit_dy375.pdf\"\n"
   ]
  },
  {
   "cell_type": "markdown",
   "metadata": {},
   "source": [
    "## setup path to store the results "
   ]
  },
  {
   "cell_type": "code",
   "execution_count": 4,
   "metadata": {},
   "outputs": [],
   "source": [
    "path2results='sidis_hermes_torino_alexei_dy'\n",
    "checkdir(path2results)"
   ]
  },
  {
   "cell_type": "markdown",
   "metadata": {},
   "source": [
    "## data sets "
   ]
  },
  {
   "cell_type": "code",
   "execution_count": 5,
   "metadata": {},
   "outputs": [],
   "source": [
    "conf['datasets']={}"
   ]
  },
  {
   "cell_type": "markdown",
   "metadata": {},
   "source": [
    "## SIDIS FUU "
   ]
  },
  {
   "cell_type": "code",
   "execution_count": 6,
   "metadata": {},
   "outputs": [],
   "source": [
    "conf['datasets']['sidis']={}\n",
    "conf['datasets']['sidis']['filters']={}\n",
    "conf['datasets']['sidis']['filters'][0]={}\n",
    "conf['datasets']['sidis']['filters'][0]['idx']=[1000,1001,1004,1005,1002,1003,1006,1007]\n",
    "conf['datasets']['sidis']['filters'][0]['filter']=\"z>0.2 and z<0.6 and Q2>1.69 and (pT/z)**2<0.25*Q2 and dy>3.25\"\n",
    "#conf['datasets']['sidis']['filters'][0]['filter']=\"z>0.2 and z<0.6 and Q2>1.\"\n",
    "#conf['datasets']['sidis']['filters'][0]['filter']=\"z>0.2 and z<0.6 and Q2>1.69 and pT>0.2 and pT<0.9\"\n",
    "\n",
    "\n",
    "\n",
    "\n",
    "conf['datasets']['sidis']['xlsx']={}\n",
    "conf['datasets']['sidis']['xlsx'][1000]='sidis/expdata/1000.xlsx'  # |  proton   | pi+    | M_Hermes | hermes \n",
    "conf['datasets']['sidis']['xlsx'][1001]='sidis/expdata/1001.xlsx'  # |  proton   | pi-    | M_Hermes | hermes \n",
    "conf['datasets']['sidis']['xlsx'][1004]='sidis/expdata/1004.xlsx'  # |  deuteron | pi+    | M_Hermes | hermes \n",
    "conf['datasets']['sidis']['xlsx'][1005]='sidis/expdata/1005.xlsx'  # |  deuteron | pi-    | M_Hermes | hermes \n",
    "\n",
    "conf['datasets']['sidis']['xlsx'][1002]='sidis/expdata/1002.xlsx'  # |  proton   | k+    | M_Hermes | hermes \n",
    "conf['datasets']['sidis']['xlsx'][1003]='sidis/expdata/1003.xlsx'  # |  proton   | k-    | M_Hermes | hermes \n",
    "conf['datasets']['sidis']['xlsx'][1006]='sidis/expdata/1006.xlsx'  # |  deuteron | k+    | M_Hermes | hermes \n",
    "conf['datasets']['sidis']['xlsx'][1007]='sidis/expdata/1007.xlsx'  # |  deuteron | k-    | M_Hermes | hermes \n",
    "\n",
    "conf['datasets']['sidis']['norm']={}\n",
    "for k in conf['datasets']['sidis']['xlsx']: conf['datasets']['sidis']['norm'][k]={'value':1,'fixed':True,'min':0,'max':1} \n"
   ]
  },
  {
   "cell_type": "markdown",
   "metadata": {},
   "source": [
    "## parameters"
   ]
  },
  {
   "cell_type": "code",
   "execution_count": 7,
   "metadata": {},
   "outputs": [],
   "source": [
    "conf['params']={}\n",
    "conf['basis']='default'"
   ]
  },
  {
   "cell_type": "markdown",
   "metadata": {},
   "source": [
    "### PDF parameters"
   ]
  },
  {
   "cell_type": "code",
   "execution_count": 8,
   "metadata": {},
   "outputs": [],
   "source": [
    "conf['params']['pdf']={}\n",
    "conf['params']['pdf']['widths0 valence']  = {'value':0.52414,'fixed':False,'min':0.,'max':1.}\n",
    "conf['params']['pdf']['widths0 sea']      = {'value':0.58465,'fixed':False,'min':0.,'max':1.}"
   ]
  },
  {
   "cell_type": "code",
   "execution_count": 9,
   "metadata": {},
   "outputs": [],
   "source": [
    "conf['params']['ff']={}\n",
    "conf['params']['ff']['widths0 pi+ fav']   = {'value':0.12405,'fixed':False,'min':0.,'max':0.2}\n",
    "conf['params']['ff']['widths0 pi+ unfav'] = {'value':0.14373,'fixed':False,'min':0.,'max':0.2}\n",
    "conf['params']['ff']['widths0 k+ fav']    = {'value':0.13384,'fixed':False,'min':0.,'max':0.2}\n",
    "conf['params']['ff']['widths0 k+ unfav']  = {'value':0.20266,'fixed':False,'min':0.0,'max':0.3}"
   ]
  },
  {
   "cell_type": "markdown",
   "metadata": {},
   "source": [
    "### combine multiple runs into one big run"
   ]
  },
  {
   "cell_type": "code",
   "execution_count": 10,
   "metadata": {},
   "outputs": [],
   "source": [
    "runs=load(summary_dy)"
   ]
  },
  {
   "cell_type": "code",
   "execution_count": 11,
   "metadata": {},
   "outputs": [
    {
     "name": "stdout",
     "output_type": "stream",
     "text": [
      "loading sidis data sets 1007"
     ]
    }
   ],
   "source": [
    "load_config(config_dy)\n",
    "conf['resman']=RESMAN(mode='solo',ip=None,nworkers=None)"
   ]
  },
  {
   "cell_type": "markdown",
   "metadata": {},
   "source": [
    "### distribution of parameters"
   ]
  },
  {
   "cell_type": "code",
   "execution_count": 12,
   "metadata": {},
   "outputs": [],
   "source": [
    "tab={}\n",
    "tab['nll']=runs['all']['nll']\n",
    "tab['weights']=runs['all']['weights']\n",
    "samples=np.transpose(runs['all']['samples'])\n",
    "for i in range(len(conf['parman'].order)):\n",
    "   _,kind,par=conf['parman'].order[i]\n",
    "   tab['%s-%s'%(kind,par)]=samples[i]\n",
    "tab=pd.DataFrame(tab)"
   ]
  },
  {
   "cell_type": "code",
   "execution_count": 13,
   "metadata": {},
   "outputs": [
    {
     "data": {
      "image/png": "[encoded data removed]",
      "text/plain": [
       "<matplotlib.figure.Figure at 0x7f316512ecd0>"
      ]
     },
     "metadata": {},
     "output_type": "display_data"
    }
   ],
   "source": [
    "nrows,ncols=3,2\n",
    "fig = py.figure(figsize=(ncols*3,nrows*2))\n",
    "\n",
    "\n",
    "def title(par):\n",
    "    if par == 'widths0 valence':\n",
    "        return r\"$\\langle k_\\perp^2 \\rangle_{valence}$ (GeV$^2$)\"\n",
    "    if par == 'widths0 sea':\n",
    "        return r\"$\\langle k_\\perp^2 \\rangle_{sea}$ (GeV$^2$)\"\n",
    "    if par == 'widths0 pi+ fav':\n",
    "        return r\"$\\langle p_\\perp^2 \\rangle_{\\pi^+ fav}$ (GeV$^2$)\"\n",
    "    if par == 'widths0 pi+ unfav':\n",
    "        return r\"$\\langle p_\\perp^2 \\rangle_{\\pi^+ unfav}$ (GeV$^2$)\"\n",
    "    if par == 'widths0 k+ fav':\n",
    "        return r\"$\\langle p_\\perp^2 \\rangle_{K^+ fav}$ (GeV$^2$)\"\n",
    "    if par == 'widths0 k+ unfav':\n",
    "        return r\"$\\langle p_\\perp^2 \\rangle_{K^+ unfav}$ (GeV$^2$)\"\n",
    "\n",
    "\n",
    "\n",
    "global cnt\n",
    "cnt=0\n",
    "def plot(tags):\n",
    "   global cnt\n",
    "   for i in range(len(tags)):\n",
    "       cnt+=1\n",
    "       if tags[i]==None: continue\n",
    "       ax=py.subplot(nrows,ncols,cnt)\n",
    "       kind,par=tags[i].split('-')\n",
    "       if kind=='pdf':\n",
    "           vmin=conf['params']['pdf'][par]['min']\n",
    "           vmax=conf['params']['pdf'][par]['max']\n",
    "           R=(vmin,vmax)\n",
    "       elif kind=='ff':\n",
    "           vmin=conf['params']['ff'][par]['min']\n",
    "           vmax=conf['params']['ff'][par]['max']\n",
    "           R=(vmin,vmax)\n",
    "       elif kind=='sidis':\n",
    "           vmin=conf['datasets']['sidis']['norm'][int(par)]['min']\n",
    "           vmax=conf['datasets']['sidis']['norm'][int(par)]['max']\n",
    "           R=(vmin,vmax)\n",
    "\n",
    "       R=None\n",
    "       #for k in runs:\n",
    "       #    ax.hist(runs[k]['samples'].T[idx],weights=runs[k]['weights'],bins=50,normed=True,range=R)\n",
    "       #ax.hist(tab[tags[i]],normed=True)\n",
    "       #tabk=tab.query('nll<1300')\n",
    "       ax.hist(tab[tags[i]],range=R,bins=100,weights=tab['weights'])\n",
    "       #ax.set_title(par)\n",
    "       ax.set_title(title(par))\n",
    "\n",
    "       \n",
    "       #print samples.T[idx]\n",
    "       #print weights\n",
    "       #ax.hist(samples2.T[idx],weights=weights2,bins=50,color='r',histtype='step',normed=True,range=R)\n",
    "       #ax.set_title(tags[i])\n",
    "       #ax.set_xlim(vmin,vmax)\n",
    "   py.tight_layout()\n",
    "\n",
    "\n",
    "plot(['pdf-widths0 valence','pdf-widths0 sea'])\n",
    "plot(['ff-widths0 pi+ fav','ff-widths0 pi+ unfav'])\n",
    "plot(['ff-widths0 k+ fav','ff-widths0 k+ unfav'])\n",
    "\n"
   ]
  },
  {
   "cell_type": "markdown",
   "metadata": {},
   "source": [
    "## data vs theory"
   ]
  },
  {
   "cell_type": "code",
   "execution_count": 14,
   "metadata": {},
   "outputs": [
    {
     "name": "stdout",
     "output_type": "stream",
     "text": [
      "5098/5098"
     ]
    }
   ],
   "source": [
    "data={'weights':runs['all']['weights']}\n",
    "cnt=0\n",
    "for s in runs['all']['samples']:\n",
    "    cnt+=1    \n",
    "    lprint('%d/%d'%(cnt,len(runs['all']['samples'])))  \n",
    "    conf['resman'].get_residuals(s);\n",
    "    for k in conf['resman'].sidisres.tabs:\n",
    "        if k  not in data: data[k]=[]\n",
    "        thy=conf['resman'].sidisres.tabs[k]['thy']    \n",
    "        norm=conf['datasets']['sidis']['norm'][k]['value']\n",
    "        shift=conf['resman'].sidisres.tabs[k]['shift']        \n",
    "        data[k].append(shift+thy/norm)\n",
    "save(data,'%s/%s'%(path2results, sid_dy))   "
   ]
  },
  {
   "cell_type": "markdown",
   "metadata": {
    "collapsed": true
   },
   "source": [
    "### compute averages and collect results"
   ]
  },
  {
   "cell_type": "code",
   "execution_count": 15,
   "metadata": {},
   "outputs": [],
   "source": [
    "data=load('%s/%s'%(path2results, sid_dy))   \n",
    "for k in data: data[k]=np.array(data[k])\n",
    "thy,dthy={},{}\n",
    "for k in data:\n",
    "    if k=='weights': continue\n",
    "    thy[k]=np.einsum('i,ik->k',data['weights'],data[k])\n",
    "    dthy[k]=np.einsum('i,ik->k',data['weights'],(data[k]-thy[k])**2)**0.5\n",
    "for k in thy: \n",
    "    conf['resman'].sidisres.tabs[k]['thy']=copy.copy(thy[k])\n",
    "    conf['resman'].sidisres.tabs[k]['dthy']=copy.copy(dthy[k])"
   ]
  },
  {
   "cell_type": "code",
   "execution_count": 16,
   "metadata": {},
   "outputs": [
    {
     "name": "stdout",
     "output_type": "stream",
     "text": [
      "sidis\n"
     ]
    }
   ],
   "source": [
    "report=conf['resman'].gen_report(verb=0,level=1)\n",
    "delimiters=[]\n",
    "for i in range(len(report)): \n",
    "    if 'reaction:' in report[i]: delimiters.append(i) \n",
    "\n",
    "data={}\n",
    "nlines=len(report)\n",
    "for i in range(len(delimiters)):\n",
    "    ini=delimiters[i]\n",
    "    if i==len(delimiters)-1: fin=len(report)\n",
    "    else: fin=delimiters[i+1]\n",
    "    reaction=report[ini].replace('reaction:','').strip()\n",
    "    data[reaction]={'raw data':report[ini:fin]}\n",
    "    \n",
    "for k in data:\n",
    "    print k\n",
    "    block=data[k]['raw data']\n",
    "    isep=[i for i in range(len(block)) if '--------' in block[i]][0]\n",
    "    data[k]['summary']=[block[i] for i in range(isep)]\n",
    "    data[k]['tables']=[block[i] for i in range(isep+1,len(block))]\n",
    "\n",
    "    tabs={}\n",
    "    for l in data[k]['tables']:\n",
    "        info=l.split(',')\n",
    "        col=[s for s in info if 'col' in s][0].split('=')[1].strip()\n",
    "        if col not in tabs: tabs[col]={}\n",
    "        info=[[ss.strip() for ss in s.split('=')] for s in info if 'col' not in info  if s.strip()!='']\n",
    "        \n",
    "        for s in info:\n",
    "            if s[0] not in tabs[col]: tabs[col][s[0]]=[]\n",
    "        \n",
    "        for s in info:\n",
    "            try:\n",
    "                value=float(s[1])\n",
    "            except:\n",
    "                value=s[1]\n",
    "            tabs[col][s[0]].append(value)        \n",
    "\n",
    "    data[k]['tabs']=tabs\n",
    "save(data,'%s/%s'%(path2results, dat_thy_dy))  "
   ]
  },
  {
   "cell_type": "code",
   "execution_count": 17,
   "metadata": {},
   "outputs": [
    {
     "name": "stdout",
     "output_type": "stream",
     "text": [
      "\n",
      "reaction: sidis\n",
      "    idx        tar        had        col        obs  npts       chi2      rchi2      nchi2\n",
      "   1000     proton        pi+     hermes   M_Hermes    14      27.71       0.00       0.00\n",
      "   1001     proton        pi-     hermes   M_Hermes    14      13.44       0.00       0.00\n",
      "   1004   deuteron        pi+     hermes   M_Hermes    14      17.67       0.00       0.00\n",
      "   1005   deuteron        pi-     hermes   M_Hermes    14       6.11       0.00       0.00\n"
     ]
    }
   ],
   "source": [
    "def summary():\n",
    "    for k in data:\n",
    "        print \"\"\n",
    "        for l in data[k]['summary']: print l\n",
    "summary()"
   ]
  },
  {
   "cell_type": "markdown",
   "metadata": {},
   "source": [
    "### distribution of parameters"
   ]
  },
  {
   "cell_type": "code",
   "execution_count": 18,
   "metadata": {},
   "outputs": [
    {
     "data": {
      "text/plain": [
       "0.0006914635792445445"
      ]
     },
     "execution_count": 18,
     "metadata": {},
     "output_type": "execute_result"
    }
   ],
   "source": [
    "np.amin(tab['pdf-widths0 valence'])"
   ]
  },
  {
   "cell_type": "code",
   "execution_count": 19,
   "metadata": {},
   "outputs": [
    {
     "name": "stdout",
     "output_type": "stream",
     "text": [
      "0.17260067098946036 0.057657199456796114\n"
     ]
    },
    {
     "data": {
      "image/png": "[encoded data removed]",
      "text/plain": [
       "<matplotlib.figure.Figure at 0x7f31640bed90>"
      ]
     },
     "metadata": {},
     "output_type": "display_data"
    }
   ],
   "source": [
    "from matplotlib.colors import LogNorm\n",
    "import matplotlib.cm as cm\n",
    "from matplotlib.mlab import griddata\n",
    "\n",
    "\n",
    "nrows,ncols=1,2\n",
    "py.figure(figsize=(ncols*5,nrows*3.5))\n",
    "\n",
    "samples2=runs['all']['samples']\n",
    "weights2=runs['all']['weights']\n",
    "\n",
    "ax=py.subplot(121)\n",
    "\n",
    "xgrid = np.linspace(np.amin(tab['pdf-widths0 valence']), np.amax(tab['pdf-widths0 valence']), 100)\n",
    "ygrid = np.linspace(np.amin(tab['pdf-widths0 sea']), np.amax(tab['pdf-widths0 sea']), 100)\n",
    "xgrid, ygrid = np.meshgrid(xgrid, ygrid)\n",
    "zgrid = griddata(tab['pdf-widths0 valence'],tab['pdf-widths0 sea'],weights2, xgrid, ygrid,interp='linear')\n",
    "zgrid/=np.amax(zgrid)\n",
    "ax.contourf(xgrid, ygrid, zgrid,cmap=cm.Blues,levels=[0.15,0.3,0.45,0.6,0.75,0.9,1.05])\n",
    "\n",
    "meanval=np.einsum('i,i',tab['pdf-widths0 valence'],weights2)\n",
    "stdval=np.einsum('i,i',(tab['pdf-widths0 valence']-meanval)**2,weights2)**0.5\n",
    "\n",
    "meansea=np.einsum('i,i',tab['pdf-widths0 sea'],weights2)\n",
    "stdsea=np.einsum('i,i',(tab['pdf-widths0 sea']-meansea)**2,weights2)**0.5\n",
    "\n",
    "\n",
    "ax.errorbar([meanval],[meansea],xerr=stdval,yerr=stdsea,fmt='r.',elinewidth=3,alpha=1.)\n",
    " \n",
    "#ax.tick_params(axis='both', which='major', labelsize=18, direction='in')\n",
    "ax.set_xlabel(r\"$\\langle k_\\perp^2 \\rangle_{valence}$ (GeV$^2$)\",size=14)\n",
    "ax.xaxis.set_label_coords(0.85, -0.07)\n",
    "#ax.set_xlim(0.0,0.55)\n",
    "#ax.set_xticks([0,0.1,0.2,0.3,0.4,0.5])\n",
    "#ax.set_xticklabels([r'$\\boldsymbol{0}$','',r'$\\boldsymbol{0.2}$','',r'$\\boldsymbol{0.4}$',''])\n",
    "ax.set_ylabel(r\"$\\langle k_\\perp^2 \\rangle_{sea}$ (GeV$^2$)\",size=14)\n",
    "\n",
    "##############################################\n",
    "ax=py.subplot(122)\n",
    "\n",
    "R=(0.,1.)\n",
    "bins=100\n",
    "\n",
    "ax.hist(tab['pdf-widths0 valence'],histtype='stepfilled',range=R,weights=weights2,bins=bins,facecolor='r'\\\n",
    "   ,edgecolor='k'\\\n",
    "   ,label=r\"$\\langle k_\\perp^2 \\rangle_{valence}$ (GeV$^2$)\",normed=True,alpha=0.5,zorder=10);\n",
    "\n",
    "ax.hist(tab['pdf-widths0 sea'],histtype='stepfilled',range=R,weights=weights2,bins=bins,facecolor='b'\\\n",
    "   ,edgecolor='k'\\\n",
    "   ,label=r\"$\\langle k_\\perp^2 \\rangle_{sea}$ (GeV$^2$)\",normed=True,alpha=0.5,zorder=10);\n",
    "\n",
    "\n",
    "ax.errorbar([meansea],10,xerr=stdsea,yerr=0,fmt='b.',elinewidth=3,alpha=1.)\n",
    "\n",
    "ax.errorbar([meanval],12,xerr=stdval,yerr=0,fmt='r.',elinewidth=3,alpha=1.)\n",
    "\n",
    "meanfffav=np.einsum('i,i',tab['ff-widths0 pi+ fav'],weights2)\n",
    "stdfffav=np.einsum('i,i',(tab['ff-widths0 pi+ fav']-meanfffav)**2,weights2)**0.5\n",
    "\n",
    "meanffunfav=np.einsum('i,i',tab['ff-widths0 pi+ unfav'],weights2)\n",
    "stdffunfav=np.einsum('i,i',(tab['ff-widths0 pi+ unfav']-meanffunfav)**2,weights2)**0.5\n",
    "\n",
    "meanffkfav=np.einsum('i,i',tab['ff-widths0 k+ fav'],weights2)\n",
    "stdffkfav=np.einsum('i,i',(tab['ff-widths0 k+ fav']-meanffkfav)**2,weights2)**0.5\n",
    "\n",
    "meanffkunfav=np.einsum('i,i',tab['ff-widths0 k+ unfav'],weights2)\n",
    "stdffkunfav=np.einsum('i,i',(tab['ff-widths0 k+ unfav']-meanffkunfav)**2,weights2)**0.5\n",
    "\n",
    "\n",
    "\n",
    "descriptive_stat = [[float(meanval), stdval], [float(meansea), stdsea], [float(meanfffav),stdfffav],\n",
    "                    [float(meanffunfav),stdffunfav], [float(meanffkfav),stdffkfav],\n",
    "                    [float(meanffkunfav),stdffkunfav]]\n",
    "\n",
    "\n",
    "print meanval, stdval\n",
    "\n",
    "#ax.tick_params(axis='both', which='major', labelsize=18, direction='in')\n",
    "ax.set_xlabel(r\"$\\langle k_\\perp^2 \\rangle_{q}$ (GeV$^2$)\",size=14)\n",
    "#ax.set_xlim([0,1.5])\n",
    "#ax.set_xticks([0,0.25,0.5,0.75,1,1.25])\n",
    "#ax.set_xticklabels([r'$\\boldsymbol{0}$','',r'$\\boldsymbol{0.5}$','',r'$\\boldsymbol{1}$',''])\n",
    "ax.xaxis.set_label_coords(0.85, -0.07)\n",
    "ax.set_ylabel(r'normalized yield',size=14)\n",
    "#ax.set_ylim([0,7.5])\n",
    "#ax.set_yticks([0,2,4,6])\n",
    "#ax.set_yticklabels([r'$\\boldsymbol{0}$',r'$\\boldsymbol{2}$',r'$\\boldsymbol{4}$',r'$\\boldsymbol{6}$'])\n",
    "ax.legend(frameon=False,fontsize=12,loc=2)\n",
    "#ax.text(0.87,0.87,r'$\\boldsymbol{\\rm (b)}$',size=20,transform=ax.transAxes,color='k',alpha=1)\n",
    "\n",
    "#py.tight_layout()\n",
    "py.savefig(\"%s/%s\" % (path2results, fig_seperation_dy))\n",
    "\n"
   ]
  },
  {
   "cell_type": "code",
   "execution_count": 20,
   "metadata": {},
   "outputs": [
    {
     "data": {
      "text/plain": [
       "[[0.17260067098946036, 0.057657199456796114],\n",
       " [0.1300686203315512, 0.10506826859930823],\n",
       " [0.2513683166359073, 0.012966139020736307],\n",
       " [0.24157572532155813, 0.01159877672966523],\n",
       " [0.4560744289056766, 0.26072358795609396],\n",
       " [0.5020034932410662, 0.2675573483393985]]"
      ]
     },
     "execution_count": 20,
     "metadata": {},
     "output_type": "execute_result"
    }
   ],
   "source": [
    "descriptive_stat"
   ]
  },
  {
   "cell_type": "markdown",
   "metadata": {},
   "source": [
    "### plot data and theory"
   ]
  },
  {
   "cell_type": "code",
   "execution_count": 21,
   "metadata": {},
   "outputs": [],
   "source": [
    "data=load('%s/%s'%(path2results, dat_thy_dy))"
   ]
  },
  {
   "cell_type": "code",
   "execution_count": 22,
   "metadata": {},
   "outputs": [],
   "source": [
    "from matplotlib import rc\n",
    "rc(\"font\", **{\"family\": \"sans-serif\", \"sans-serif\": [\"Helvetica\"]})\n",
    "\n",
    "\n",
    "data = pd.concat(pd.DataFrame(d)\n",
    "                 for d in conf[\"resman\"].sidisres.tabs.values())\n",
    "\n",
    "data = data[(data[\"hadron\"] == \"pi+\") &\n",
    "            (data[\"target\"] == \"proton\")]"
   ]
  },
  {
   "cell_type": "code",
   "execution_count": 23,
   "metadata": {},
   "outputs": [],
   "source": [
    "#####################\n",
    "# reading the data ##\n",
    "#####################\n",
    "#dat=pd.read_excel('E:/Laptop/School/Interships/Dr_Prokudin/Juniper82/PHYS296/dat/expdat/1000.xlsx');\n",
    "#dat=pd.read_excel('C:/Users/Dolam/Documents/Scott/1000.xlsx');\n",
    "dat=pd.read_excel('../../fitpack/database/sidis/expdata/1000.xlsx');"
   ]
  },
  {
   "cell_type": "code",
   "execution_count": 24,
   "metadata": {},
   "outputs": [],
   "source": [
    "######################\n",
    "# Calculated values ##\n",
    "######################\n",
    "dat[\"delta\"] = np.sqrt(dat[\"stat_u\"]**2.0) # measurment error\n",
    "\n",
    "data[\"delta\"] = np.sqrt(data[\"stat_u\"]**2.0) # measurment error"
   ]
  },
  {
   "cell_type": "code",
   "execution_count": 25,
   "metadata": {},
   "outputs": [],
   "source": [
    "##################\n",
    "## Binning data ##\n",
    "##################\n",
    "# data bin edeges\n",
    "\n",
    "xBin=np.array([0.023,0.047,0.075,0.12,0.35,0.6]) # Bins for x used to plot Pt\n",
    "Q2Bin=np.array([1.0,10]) # **NOTE** includes all Q2 data, therefore all value data is plotted vs. Pt\n",
    "zBin= np.array([0.1, 0.2,0.25,0.3, 0.375, 0.475, 0.6, 0.8, 1.1]) # catagories for z to be ploted indiviualy in each subplot\n",
    "\n",
    "# binning data\n",
    "dat['xBin'] = pd.cut(dat['x'], xBin,labels = False, retbins=0)\n",
    "dat['Q2Bin'] = pd.cut(dat['Q2'], Q2Bin,labels = False, retbins=0)\n",
    "dat['zBin'] = pd.cut(dat['z'], zBin,labels = False, retbins=0)\n",
    "\n",
    "data['xBin'] = pd.cut(data['x'], xBin,labels = False, retbins=0)\n",
    "data['Q2Bin'] = pd.cut(data['Q2'], Q2Bin,labels = False, retbins=0)\n",
    "data['zBin'] = pd.cut(data['z'], zBin,labels = False, retbins=0)\n",
    "\n",
    "# bins for x and y that have non-empty intersection\n",
    "pTdatmod=[0,1,2,3,4] # xBins that overlap Q2Bins\n",
    "valuedatmod=[0] # Q2bins that overlap xBins"
   ]
  },
  {
   "cell_type": "code",
   "execution_count": 26,
   "metadata": {},
   "outputs": [
    {
     "data": {
      "image/png": "[encoded data removed]",
      "text/plain": [
       "<matplotlib.figure.Figure at 0x7f31640736d0>"
      ]
     },
     "metadata": {},
     "output_type": "display_data"
    }
   ],
   "source": [
    "###############\n",
    "# HermesPlot ##\n",
    "###############  Reduced matix \n",
    "# initialize the figure\n",
    "import matplotlib.pyplot as plt\n",
    "import matplotlib.gridspec as gridspec\n",
    "import matplotlib.patches as mpatches\n",
    "from matplotlib.backends.backend_pdf import PdfPages\n",
    "\n",
    "fig1=plt.figure(figsize=(18, 4),facecolor=\"white\") # figsize; wxh in inche\n",
    "globalGrid=gridspec.GridSpec(1, 1,left=0.03,right=1,top=.91,bottom=.115, wspace=0.0, hspace=0.0) # plot for subplot matrix as 1x1 matrix\n",
    "innerGrid=gridspec.GridSpecFromSubplotSpec(1,5 , subplot_spec=globalGrid[0], wspace=0.0, hspace=0.0) # 5x6 subplot grid \n",
    "\n",
    "# figure properties:\n",
    "ax=fig1.add_axes([0,0,1,1]) # axas for subplot matrix as percent of hole\n",
    "#ax.yaxis.set_ticks([0,1.25,2.76,4.27,5.78,7.29,8.8,10])\n",
    "ax.xaxis.set_ticks([0,1.25,2.8,4.35,5.9,7.45,9,10 ])\n",
    "xticklabels = np.array([0,0.023,0.047,0.075,0.12,0.35,0.6]) \n",
    "\n",
    "ax.set_yticklabels(\"\")\n",
    "ax.set_xticklabels(xticklabels)\n",
    "ax.set_xlabel(r\"$x$ bins\") # xy-lables\n",
    "ax.set_ylabel(r\"$Q^2$\",rotation=\"horizontal\",labelpad = 15)\n",
    "#ax.grid() # grid currently off\n",
    "\n",
    "# subplot axis proerties (unused)\n",
    "Zcolor=['#F74902',\"green\",\"blue\",'orange',\"#7851a9\",\"brown\",'#093162','#4b5320']\n",
    "Zmark=[\"o\",\"o\",\"o\",\"o\"]\n",
    "\n",
    "# Set legend\n",
    "Zpatch1 = mpatches.Patch(color=Zcolor[0], label='0.1<z<0.2')\n",
    "Zpatch2 = mpatches.Patch(color=Zcolor[1], label='0.2<z<0.25')\n",
    "Zpatch3 = mpatches.Patch(color=Zcolor[2], label='0.25<z<0.3')\n",
    "Zpatch4 = mpatches.Patch(color=Zcolor[3], label='0.3<z<0.375')\n",
    "Zpatch5 = mpatches.Patch(color=Zcolor[4], label='0.375<z<0.475')\n",
    "Zpatch6 = mpatches.Patch(color=Zcolor[5], label='0.475<z<0.6')\n",
    "Zpatch7 = mpatches.Patch(color=Zcolor[6], label='0.6<z<0.8')\n",
    "Zpatch8 = mpatches.Patch(color=Zcolor[7], label='0.8<z<1')\n",
    "          \n",
    "ax.legend(handles=[Zpatch1,Zpatch2,Zpatch3,Zpatch4,Zpatch5,Zpatch6,Zpatch7,Zpatch8],\n",
    "          loc='upper center',\n",
    "          ncol=8,prop={'size': 9}\n",
    "          )\n",
    "          \n",
    "for f,F in zip(range(len(pTdatmod)),pTdatmod):       \n",
    "    for j,J in zip(range(len(valuedatmod)),valuedatmod):\n",
    "        \n",
    "        k = int(f) # kth possition for subplot on innerGrid matrix\n",
    "        maskX = dat['xBin'].isin([F]) # returns boolean for all Jth xBin in dat  \n",
    "        maskY = dat['Q2Bin'].isin([J]) # returns boolean for all Fth Q2Bin in dat\n",
    "        \n",
    "        maskX_thr = data['xBin'].isin([F]) # returns boolean for all Jth xBin in dat  \n",
    "        maskY_thr = data['Q2Bin'].isin([J]) # returns boolean for all Fth Q2Bin in dat\n",
    "       \n",
    "        ax = fig1.add_subplot(innerGrid[k]) # add subplot in innerGrid\n",
    "        xydat = dat[maskX & maskY] # subset of data for Jth xBin and Fth Q2Bin\n",
    "        \n",
    "        xydata = data[maskX_thr & maskY_thr] # subset of data for Jth xBin and Fth Q2Bin\n",
    "        \n",
    "        for z in range(len(zBin)-1): \n",
    "            maskZ = xydat[\"zBin\"].isin([z])\n",
    "            databin = xydat[maskZ]\n",
    "            \n",
    "            maskZ_thr = xydata[\"zBin\"].isin([z])\n",
    "            databin_thr = xydata[maskZ_thr]\n",
    "            \n",
    "            if f != 0:\n",
    "                #AP#ax.errorbar(databin['pT'],databin['value'],yerr=databin['delta'],capsize=5,linestyle=\"\",color = Zcolor[z],elinewidth=1.25)\n",
    "                ax.errorbar(databin['pT'],databin['value'],yerr=databin['delta'],linestyle=\"\",fmt=\"o\",color = Zcolor[z],elinewidth=1.25)\n",
    "\n",
    "                ax.set_xlabel(r\"$p_T$ (GeV)\",labelpad=1)\n",
    "                ax.set_yscale('log')\n",
    "                ax.set_yticklabels('')\n",
    "                \n",
    "                ax.plot(databin_thr['pT'],databin_thr['thy'],linestyle=\"-\",color = Zcolor[z]) # theory\n",
    "                ax.fill_between(databin_thr['pT'],databin_thr['thy']-databin_thr['dthy'],databin_thr['thy']+databin_thr['dthy']) # theory error\n",
    "                ax.set_xlabel(r\"$P_{hT}$ (GeV)\",labelpad=1)\n",
    "                ax.set_yticklabels('')\n",
    "               \n",
    "            else:\n",
    "                #AP no capsize... fmt=\"o\" #ax.errorbar(databin['pT'],databin['value'],yerr=databin['delta'],capsize=5,linestyle=\"\", color = Zcolor[z],elinewidth=1.25)\n",
    "                ax.errorbar(databin['pT'],databin['value'],yerr=databin['delta'],linestyle=\"\",fmt=\"o\", color = Zcolor[z],elinewidth=1.25)\n",
    "\n",
    "                \n",
    "                ax.plot(databin_thr['pT'],databin_thr['thy'],linestyle=\"-\",color = Zcolor[z]) #theory\n",
    "                ax.fill_between(databin_thr['pT'],databin_thr['thy']-databin_thr['dthy'],databin_thr['thy']+databin_thr['dthy']) # theory error\n",
    "\n",
    "                \n",
    "                ax.set_xlabel(r\"$P_{hT}$ (GeV)\",labelpad=1)\n",
    "                ax.set_yscale('log')\n",
    "plt.savefig(\"%s/%s\" % (path2results, fig_hermes_dy))             "
   ]
  },
  {
   "cell_type": "markdown",
   "metadata": {
    "collapsed": true
   },
   "source": [
    "## writing descriptive stats"
   ]
  },
  {
   "cell_type": "code",
   "execution_count": 27,
   "metadata": {},
   "outputs": [],
   "source": [
    "with open(\"sidis_hermes_torino_alexei_dy/descriptive_qt_dy.txt\", \"a\") as f:\n",
    "    f.write(\"%s: val, %s, sec, %s, fav, %s, unfav, %s, kfav, %s, kunfav, %s\\n\" % (dy, descriptive_stat[0], descriptive_stat[1], descriptive_stat[2], descriptive_stat[3],descriptive_stat[4],descriptive_stat[5]))"
   ]
  },
  {
   "cell_type": "code",
   "execution_count": 28,
   "metadata": {},
   "outputs": [
    {
     "data": {
      "text/plain": [
       "[[0.17260067098946036, 0.057657199456796114],\n",
       " [0.1300686203315512, 0.10506826859930823],\n",
       " [0.2513683166359073, 0.012966139020736307],\n",
       " [0.24157572532155813, 0.01159877672966523],\n",
       " [0.4560744289056766, 0.26072358795609396],\n",
       " [0.5020034932410662, 0.2675573483393985]]"
      ]
     },
     "execution_count": 28,
     "metadata": {},
     "output_type": "execute_result"
    }
   ],
   "source": [
    "descriptive_stat"
   ]
  },
  {
   "cell_type": "code",
   "execution_count": null,
   "metadata": {},
   "outputs": [],
   "source": []
  }
 ],
 "metadata": {
  "anaconda-cloud": {},
  "kernelspec": {
   "display_name": "Python 2",
   "language": "python",
   "name": "python2"
  },
  "language_info": {
   "codemirror_mode": {
    "name": "ipython",
    "version": 2
   },
   "file_extension": ".py",
   "mimetype": "text/x-python",
   "name": "python",
   "nbconvert_exporter": "python",
   "pygments_lexer": "ipython2",
   "version": "2.7.14"
  }
 },
 "nbformat": 4,
 "nbformat_minor": 2
}
